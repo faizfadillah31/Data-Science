{
 "cells": [
  {
   "cell_type": "code",
   "execution_count": 2,
   "metadata": {},
   "outputs": [],
   "source": [
    "import numpy as np\n",
    "import pandas as pd\n",
    "import matplotlib.pyplot as plt\n",
    "import seaborn as sns\n",
    "from sklearn.feature_extraction.text import CountVectorizer\n",
    "from sklearn.metrics.pairwise import cosine_similarity"
   ]
  },
  {
   "cell_type": "markdown",
   "metadata": {},
   "source": [
    "## Case 1 Sistem Rekomendasi Untuk Student SA"
   ]
  },
  {
   "cell_type": "code",
   "execution_count": 3,
   "metadata": {},
   "outputs": [],
   "source": [
    "# Step 1 : Get Data\n",
    "desc_dm = 'In Digital Marketing, we learn how to promoted to segmented market'\n",
    "desc_wd = 'In Web Development, we learn how to create web and mobile apps'\n",
    "desc_ds = 'In Data Science, we learn how to create recommender system'\n",
    "\n",
    "documents = [desc_dm, desc_wd, desc_ds]"
   ]
  },
  {
   "cell_type": "code",
   "execution_count": 4,
   "metadata": {},
   "outputs": [
    {
     "data": {
      "text/plain": [
       "['In Digital Marketing, we learn how to promoted to segmented market',\n",
       " 'In Web Development, we learn how to create web and mobile apps',\n",
       " 'In Data Science, we learn how to create recommender system']"
      ]
     },
     "execution_count": 4,
     "metadata": {},
     "output_type": "execute_result"
    }
   ],
   "source": [
    "documents"
   ]
  },
  {
   "cell_type": "code",
   "execution_count": 9,
   "metadata": {},
   "outputs": [],
   "source": [
    "# Step 2 : Using the countvectorizer\n",
    "\n",
    "cv = CountVectorizer(stop_words='english')\n",
    "matrix = cv.fit_transform(documents)"
   ]
  },
  {
   "cell_type": "code",
   "execution_count": 10,
   "metadata": {},
   "outputs": [
    {
     "data": {
      "text/plain": [
       "array([[0, 0, 0, 0, 1, 1, 1, 1, 0, 1, 0, 0, 1, 0],\n",
       "       [1, 1, 0, 1, 0, 1, 0, 0, 1, 0, 0, 0, 0, 2],\n",
       "       [0, 1, 1, 0, 0, 1, 0, 0, 0, 0, 1, 1, 0, 0]], dtype=int64)"
      ]
     },
     "execution_count": 10,
     "metadata": {},
     "output_type": "execute_result"
    }
   ],
   "source": [
    "matrix.toarray()"
   ]
  },
  {
   "cell_type": "code",
   "execution_count": 11,
   "metadata": {},
   "outputs": [
    {
     "data": {
      "text/plain": [
       "['apps',\n",
       " 'create',\n",
       " 'data',\n",
       " 'development',\n",
       " 'digital',\n",
       " 'learn',\n",
       " 'market',\n",
       " 'marketing',\n",
       " 'mobile',\n",
       " 'promoted',\n",
       " 'recommender',\n",
       " 'science',\n",
       " 'segmented',\n",
       " 'web']"
      ]
     },
     "execution_count": 11,
     "metadata": {},
     "output_type": "execute_result"
    }
   ],
   "source": [
    "cv.get_feature_names()"
   ]
  },
  {
   "cell_type": "code",
   "execution_count": 12,
   "metadata": {},
   "outputs": [],
   "source": [
    "# Step 3 (additional) : Show what countvectorizer does\n",
    "\n",
    "df_coba = pd.DataFrame(matrix.toarray(), columns=cv.get_feature_names(), \n",
    "                       index=['Digital Marketing', 'Web Development', 'Data Science'])\n"
   ]
  },
  {
   "cell_type": "code",
   "execution_count": 13,
   "metadata": {},
   "outputs": [
    {
     "data": {
      "text/html": [
       "<div>\n",
       "<style scoped>\n",
       "    .dataframe tbody tr th:only-of-type {\n",
       "        vertical-align: middle;\n",
       "    }\n",
       "\n",
       "    .dataframe tbody tr th {\n",
       "        vertical-align: top;\n",
       "    }\n",
       "\n",
       "    .dataframe thead th {\n",
       "        text-align: right;\n",
       "    }\n",
       "</style>\n",
       "<table border=\"1\" class=\"dataframe\">\n",
       "  <thead>\n",
       "    <tr style=\"text-align: right;\">\n",
       "      <th></th>\n",
       "      <th>apps</th>\n",
       "      <th>create</th>\n",
       "      <th>data</th>\n",
       "      <th>development</th>\n",
       "      <th>digital</th>\n",
       "      <th>learn</th>\n",
       "      <th>market</th>\n",
       "      <th>marketing</th>\n",
       "      <th>mobile</th>\n",
       "      <th>promoted</th>\n",
       "      <th>recommender</th>\n",
       "      <th>science</th>\n",
       "      <th>segmented</th>\n",
       "      <th>web</th>\n",
       "    </tr>\n",
       "  </thead>\n",
       "  <tbody>\n",
       "    <tr>\n",
       "      <th>Digital Marketing</th>\n",
       "      <td>0</td>\n",
       "      <td>0</td>\n",
       "      <td>0</td>\n",
       "      <td>0</td>\n",
       "      <td>1</td>\n",
       "      <td>1</td>\n",
       "      <td>1</td>\n",
       "      <td>1</td>\n",
       "      <td>0</td>\n",
       "      <td>1</td>\n",
       "      <td>0</td>\n",
       "      <td>0</td>\n",
       "      <td>1</td>\n",
       "      <td>0</td>\n",
       "    </tr>\n",
       "    <tr>\n",
       "      <th>Web Development</th>\n",
       "      <td>1</td>\n",
       "      <td>1</td>\n",
       "      <td>0</td>\n",
       "      <td>1</td>\n",
       "      <td>0</td>\n",
       "      <td>1</td>\n",
       "      <td>0</td>\n",
       "      <td>0</td>\n",
       "      <td>1</td>\n",
       "      <td>0</td>\n",
       "      <td>0</td>\n",
       "      <td>0</td>\n",
       "      <td>0</td>\n",
       "      <td>2</td>\n",
       "    </tr>\n",
       "    <tr>\n",
       "      <th>Data Science</th>\n",
       "      <td>0</td>\n",
       "      <td>1</td>\n",
       "      <td>1</td>\n",
       "      <td>0</td>\n",
       "      <td>0</td>\n",
       "      <td>1</td>\n",
       "      <td>0</td>\n",
       "      <td>0</td>\n",
       "      <td>0</td>\n",
       "      <td>0</td>\n",
       "      <td>1</td>\n",
       "      <td>1</td>\n",
       "      <td>0</td>\n",
       "      <td>0</td>\n",
       "    </tr>\n",
       "  </tbody>\n",
       "</table>\n",
       "</div>"
      ],
      "text/plain": [
       "                   apps  create  data  development  digital  learn  market  \\\n",
       "Digital Marketing     0       0     0            0        1      1       1   \n",
       "Web Development       1       1     0            1        0      1       0   \n",
       "Data Science          0       1     1            0        0      1       0   \n",
       "\n",
       "                   marketing  mobile  promoted  recommender  science  \\\n",
       "Digital Marketing          1       0         1            0        0   \n",
       "Web Development            0       1         0            0        0   \n",
       "Data Science               0       0         0            1        1   \n",
       "\n",
       "                   segmented  web  \n",
       "Digital Marketing          1    0  \n",
       "Web Development            0    2  \n",
       "Data Science               0    0  "
      ]
     },
     "execution_count": 13,
     "metadata": {},
     "output_type": "execute_result"
    }
   ],
   "source": [
    "df_coba"
   ]
  },
  {
   "cell_type": "code",
   "execution_count": 14,
   "metadata": {},
   "outputs": [],
   "source": [
    "# Step 4 : calculate cosine similarity\n",
    "\n",
    "cos_score = cosine_similarity(matrix)"
   ]
  },
  {
   "cell_type": "code",
   "execution_count": 15,
   "metadata": {},
   "outputs": [
    {
     "data": {
      "text/plain": [
       "array([[1.        , 0.13608276, 0.18257419],\n",
       "       [0.13608276, 1.        , 0.2981424 ],\n",
       "       [0.18257419, 0.2981424 , 1.        ]])"
      ]
     },
     "execution_count": 15,
     "metadata": {},
     "output_type": "execute_result"
    }
   ],
   "source": [
    "cos_score"
   ]
  },
  {
   "cell_type": "code",
   "execution_count": 16,
   "metadata": {},
   "outputs": [
    {
     "data": {
      "text/plain": [
       "<matplotlib.axes._subplots.AxesSubplot at 0x2d706da3430>"
      ]
     },
     "execution_count": 16,
     "metadata": {},
     "output_type": "execute_result"
    },
    {
     "data": {
      "image/png": "[encoded data removed]",
      "text/plain": [
       "<Figure size 720x360 with 2 Axes>"
      ]
     },
     "metadata": {
      "needs_background": "light"
     },
     "output_type": "display_data"
    }
   ],
   "source": [
    "plt.figure(figsize=(10,5))\n",
    "sns.heatmap(cos_score, annot=True, \n",
    "           xticklabels=df_coba.index, \n",
    "           yticklabels=df_coba.index)"
   ]
  },
  {
   "cell_type": "code",
   "execution_count": 32,
   "metadata": {},
   "outputs": [
    {
     "name": "stdout",
     "output_type": "stream",
     "text": [
      "What class did you take? (0:DM, 1:WD, 2:DS)2\n",
      "because you took Data Science, here are similar class:\n",
      "1.Data Science\n",
      "2.Web Development\n"
     ]
    }
   ],
   "source": [
    "# Step 5 : Show Recommendation\n",
    "class_taken = int(input('What class did you take? (0:DM, 1:WD, 2:DS)'))\n",
    "\n",
    "urutan_kelas = sorted(list(enumerate(cos_score[0])), key=lambda x : x[1], reverse=True)\n",
    "\n",
    "next_class = []\n",
    "for i,j in urutan_kelas[1:]:\n",
    "    next_class.append(df_coba.index[i])\n",
    "print(f'because you took {df_coba.index[class_taken]}, here are similar class:')\n",
    "for i,j in enumerate(next_class):\n",
    "    print(f'{i+1}.{j}')"
   ]
  },
  {
   "cell_type": "code",
   "execution_count": null,
   "metadata": {},
   "outputs": [],
   "source": []
  },
  {
   "cell_type": "code",
   "execution_count": 33,
   "metadata": {},
   "outputs": [],
   "source": [
    "anime = pd.read_csv('anime.csv')"
   ]
  },
  {
   "cell_type": "code",
   "execution_count": 34,
   "metadata": {},
   "outputs": [
    {
     "data": {
      "text/html": [
       "<div>\n",
       "<style scoped>\n",
       "    .dataframe tbody tr th:only-of-type {\n",
       "        vertical-align: middle;\n",
       "    }\n",
       "\n",
       "    .dataframe tbody tr th {\n",
       "        vertical-align: top;\n",
       "    }\n",
       "\n",
       "    .dataframe thead th {\n",
       "        text-align: right;\n",
       "    }\n",
       "</style>\n",
       "<table border=\"1\" class=\"dataframe\">\n",
       "  <thead>\n",
       "    <tr style=\"text-align: right;\">\n",
       "      <th></th>\n",
       "      <th>anime_id</th>\n",
       "      <th>name</th>\n",
       "      <th>genre</th>\n",
       "      <th>type</th>\n",
       "      <th>episodes</th>\n",
       "      <th>rating</th>\n",
       "      <th>members</th>\n",
       "    </tr>\n",
       "  </thead>\n",
       "  <tbody>\n",
       "    <tr>\n",
       "      <th>0</th>\n",
       "      <td>32281</td>\n",
       "      <td>Kimi no Na wa.</td>\n",
       "      <td>Drama, Romance, School, Supernatural</td>\n",
       "      <td>Movie</td>\n",
       "      <td>1</td>\n",
       "      <td>9.37</td>\n",
       "      <td>200630</td>\n",
       "    </tr>\n",
       "    <tr>\n",
       "      <th>1</th>\n",
       "      <td>5114</td>\n",
       "      <td>Fullmetal Alchemist: Brotherhood</td>\n",
       "      <td>Action, Adventure, Drama, Fantasy, Magic, Mili...</td>\n",
       "      <td>TV</td>\n",
       "      <td>64</td>\n",
       "      <td>9.26</td>\n",
       "      <td>793665</td>\n",
       "    </tr>\n",
       "    <tr>\n",
       "      <th>2</th>\n",
       "      <td>28977</td>\n",
       "      <td>Gintama°</td>\n",
       "      <td>Action, Comedy, Historical, Parody, Samurai, S...</td>\n",
       "      <td>TV</td>\n",
       "      <td>51</td>\n",
       "      <td>9.25</td>\n",
       "      <td>114262</td>\n",
       "    </tr>\n",
       "    <tr>\n",
       "      <th>3</th>\n",
       "      <td>9253</td>\n",
       "      <td>Steins;Gate</td>\n",
       "      <td>Sci-Fi, Thriller</td>\n",
       "      <td>TV</td>\n",
       "      <td>24</td>\n",
       "      <td>9.17</td>\n",
       "      <td>673572</td>\n",
       "    </tr>\n",
       "    <tr>\n",
       "      <th>4</th>\n",
       "      <td>9969</td>\n",
       "      <td>Gintama&amp;#039;</td>\n",
       "      <td>Action, Comedy, Historical, Parody, Samurai, S...</td>\n",
       "      <td>TV</td>\n",
       "      <td>51</td>\n",
       "      <td>9.16</td>\n",
       "      <td>151266</td>\n",
       "    </tr>\n",
       "  </tbody>\n",
       "</table>\n",
       "</div>"
      ],
      "text/plain": [
       "   anime_id                              name  \\\n",
       "0     32281                    Kimi no Na wa.   \n",
       "1      5114  Fullmetal Alchemist: Brotherhood   \n",
       "2     28977                          Gintama°   \n",
       "3      9253                       Steins;Gate   \n",
       "4      9969                     Gintama&#039;   \n",
       "\n",
       "                                               genre   type episodes  rating  \\\n",
       "0               Drama, Romance, School, Supernatural  Movie        1    9.37   \n",
       "1  Action, Adventure, Drama, Fantasy, Magic, Mili...     TV       64    9.26   \n",
       "2  Action, Comedy, Historical, Parody, Samurai, S...     TV       51    9.25   \n",
       "3                                   Sci-Fi, Thriller     TV       24    9.17   \n",
       "4  Action, Comedy, Historical, Parody, Samurai, S...     TV       51    9.16   \n",
       "\n",
       "   members  \n",
       "0   200630  \n",
       "1   793665  \n",
       "2   114262  \n",
       "3   673572  \n",
       "4   151266  "
      ]
     },
     "execution_count": 34,
     "metadata": {},
     "output_type": "execute_result"
    }
   ],
   "source": [
    "anime.head()"
   ]
  },
  {
   "cell_type": "code",
   "execution_count": 36,
   "metadata": {},
   "outputs": [
    {
     "name": "stdout",
     "output_type": "stream",
     "text": [
      "<class 'pandas.core.frame.DataFrame'>\n",
      "RangeIndex: 12294 entries, 0 to 12293\n",
      "Data columns (total 7 columns):\n",
      " #   Column    Non-Null Count  Dtype  \n",
      "---  ------    --------------  -----  \n",
      " 0   anime_id  12294 non-null  int64  \n",
      " 1   name      12294 non-null  object \n",
      " 2   genre     12232 non-null  object \n",
      " 3   type      12269 non-null  object \n",
      " 4   episodes  12294 non-null  object \n",
      " 5   rating    12064 non-null  float64\n",
      " 6   members   12294 non-null  int64  \n",
      "dtypes: float64(1), int64(2), object(4)\n",
      "memory usage: 672.5+ KB\n"
     ]
    }
   ],
   "source": [
    "anime.info()"
   ]
  },
  {
   "cell_type": "code",
   "execution_count": 35,
   "metadata": {},
   "outputs": [
    {
     "data": {
      "text/plain": [
       "array(['Kimi no Na wa.', 'Fullmetal Alchemist: Brotherhood', 'Gintama°',\n",
       "       ..., 'Violence Gekiga David no Hoshi',\n",
       "       'Violence Gekiga Shin David no Hoshi: Inma Densetsu',\n",
       "       'Yasuji no Pornorama: Yacchimae!!'], dtype=object)"
      ]
     },
     "execution_count": 35,
     "metadata": {},
     "output_type": "execute_result"
    }
   ],
   "source": [
    "anime['name'].unique()"
   ]
  },
  {
   "cell_type": "code",
   "execution_count": 37,
   "metadata": {},
   "outputs": [],
   "source": [
    "anime = anime.iloc[:, :4]"
   ]
  },
  {
   "cell_type": "code",
   "execution_count": 38,
   "metadata": {},
   "outputs": [
    {
     "data": {
      "text/html": [
       "<div>\n",
       "<style scoped>\n",
       "    .dataframe tbody tr th:only-of-type {\n",
       "        vertical-align: middle;\n",
       "    }\n",
       "\n",
       "    .dataframe tbody tr th {\n",
       "        vertical-align: top;\n",
       "    }\n",
       "\n",
       "    .dataframe thead th {\n",
       "        text-align: right;\n",
       "    }\n",
       "</style>\n",
       "<table border=\"1\" class=\"dataframe\">\n",
       "  <thead>\n",
       "    <tr style=\"text-align: right;\">\n",
       "      <th></th>\n",
       "      <th>anime_id</th>\n",
       "      <th>name</th>\n",
       "      <th>genre</th>\n",
       "      <th>type</th>\n",
       "    </tr>\n",
       "  </thead>\n",
       "  <tbody>\n",
       "    <tr>\n",
       "      <th>0</th>\n",
       "      <td>32281</td>\n",
       "      <td>Kimi no Na wa.</td>\n",
       "      <td>Drama, Romance, School, Supernatural</td>\n",
       "      <td>Movie</td>\n",
       "    </tr>\n",
       "    <tr>\n",
       "      <th>1</th>\n",
       "      <td>5114</td>\n",
       "      <td>Fullmetal Alchemist: Brotherhood</td>\n",
       "      <td>Action, Adventure, Drama, Fantasy, Magic, Mili...</td>\n",
       "      <td>TV</td>\n",
       "    </tr>\n",
       "    <tr>\n",
       "      <th>2</th>\n",
       "      <td>28977</td>\n",
       "      <td>Gintama°</td>\n",
       "      <td>Action, Comedy, Historical, Parody, Samurai, S...</td>\n",
       "      <td>TV</td>\n",
       "    </tr>\n",
       "    <tr>\n",
       "      <th>3</th>\n",
       "      <td>9253</td>\n",
       "      <td>Steins;Gate</td>\n",
       "      <td>Sci-Fi, Thriller</td>\n",
       "      <td>TV</td>\n",
       "    </tr>\n",
       "    <tr>\n",
       "      <th>4</th>\n",
       "      <td>9969</td>\n",
       "      <td>Gintama&amp;#039;</td>\n",
       "      <td>Action, Comedy, Historical, Parody, Samurai, S...</td>\n",
       "      <td>TV</td>\n",
       "    </tr>\n",
       "    <tr>\n",
       "      <th>...</th>\n",
       "      <td>...</td>\n",
       "      <td>...</td>\n",
       "      <td>...</td>\n",
       "      <td>...</td>\n",
       "    </tr>\n",
       "    <tr>\n",
       "      <th>12289</th>\n",
       "      <td>9316</td>\n",
       "      <td>Toushindai My Lover: Minami tai Mecha-Minami</td>\n",
       "      <td>Hentai</td>\n",
       "      <td>OVA</td>\n",
       "    </tr>\n",
       "    <tr>\n",
       "      <th>12290</th>\n",
       "      <td>5543</td>\n",
       "      <td>Under World</td>\n",
       "      <td>Hentai</td>\n",
       "      <td>OVA</td>\n",
       "    </tr>\n",
       "    <tr>\n",
       "      <th>12291</th>\n",
       "      <td>5621</td>\n",
       "      <td>Violence Gekiga David no Hoshi</td>\n",
       "      <td>Hentai</td>\n",
       "      <td>OVA</td>\n",
       "    </tr>\n",
       "    <tr>\n",
       "      <th>12292</th>\n",
       "      <td>6133</td>\n",
       "      <td>Violence Gekiga Shin David no Hoshi: Inma Dens...</td>\n",
       "      <td>Hentai</td>\n",
       "      <td>OVA</td>\n",
       "    </tr>\n",
       "    <tr>\n",
       "      <th>12293</th>\n",
       "      <td>26081</td>\n",
       "      <td>Yasuji no Pornorama: Yacchimae!!</td>\n",
       "      <td>Hentai</td>\n",
       "      <td>Movie</td>\n",
       "    </tr>\n",
       "  </tbody>\n",
       "</table>\n",
       "<p>12294 rows × 4 columns</p>\n",
       "</div>"
      ],
      "text/plain": [
       "       anime_id                                               name  \\\n",
       "0         32281                                     Kimi no Na wa.   \n",
       "1          5114                   Fullmetal Alchemist: Brotherhood   \n",
       "2         28977                                           Gintama°   \n",
       "3          9253                                        Steins;Gate   \n",
       "4          9969                                      Gintama&#039;   \n",
       "...         ...                                                ...   \n",
       "12289      9316       Toushindai My Lover: Minami tai Mecha-Minami   \n",
       "12290      5543                                        Under World   \n",
       "12291      5621                     Violence Gekiga David no Hoshi   \n",
       "12292      6133  Violence Gekiga Shin David no Hoshi: Inma Dens...   \n",
       "12293     26081                   Yasuji no Pornorama: Yacchimae!!   \n",
       "\n",
       "                                                   genre   type  \n",
       "0                   Drama, Romance, School, Supernatural  Movie  \n",
       "1      Action, Adventure, Drama, Fantasy, Magic, Mili...     TV  \n",
       "2      Action, Comedy, Historical, Parody, Samurai, S...     TV  \n",
       "3                                       Sci-Fi, Thriller     TV  \n",
       "4      Action, Comedy, Historical, Parody, Samurai, S...     TV  \n",
       "...                                                  ...    ...  \n",
       "12289                                             Hentai    OVA  \n",
       "12290                                             Hentai    OVA  \n",
       "12291                                             Hentai    OVA  \n",
       "12292                                             Hentai    OVA  \n",
       "12293                                             Hentai  Movie  \n",
       "\n",
       "[12294 rows x 4 columns]"
      ]
     },
     "execution_count": 38,
     "metadata": {},
     "output_type": "execute_result"
    }
   ],
   "source": [
    "anime"
   ]
  },
  {
   "cell_type": "code",
   "execution_count": 39,
   "metadata": {},
   "outputs": [
    {
     "data": {
      "text/plain": [
       "anime_id     0\n",
       "name         0\n",
       "genre       62\n",
       "type        25\n",
       "dtype: int64"
      ]
     },
     "execution_count": 39,
     "metadata": {},
     "output_type": "execute_result"
    }
   ],
   "source": [
    "anime.isna().sum()"
   ]
  },
  {
   "cell_type": "code",
   "execution_count": 40,
   "metadata": {},
   "outputs": [],
   "source": [
    "anime.dropna(inplace=True)"
   ]
  },
  {
   "cell_type": "code",
   "execution_count": 41,
   "metadata": {},
   "outputs": [
    {
     "data": {
      "text/plain": [
       "anime_id    0\n",
       "name        0\n",
       "genre       0\n",
       "type        0\n",
       "dtype: int64"
      ]
     },
     "execution_count": 41,
     "metadata": {},
     "output_type": "execute_result"
    }
   ],
   "source": [
    "anime.isna().sum()"
   ]
  },
  {
   "cell_type": "code",
   "execution_count": 42,
   "metadata": {},
   "outputs": [
    {
     "data": {
      "text/html": [
       "<div>\n",
       "<style scoped>\n",
       "    .dataframe tbody tr th:only-of-type {\n",
       "        vertical-align: middle;\n",
       "    }\n",
       "\n",
       "    .dataframe tbody tr th {\n",
       "        vertical-align: top;\n",
       "    }\n",
       "\n",
       "    .dataframe thead th {\n",
       "        text-align: right;\n",
       "    }\n",
       "</style>\n",
       "<table border=\"1\" class=\"dataframe\">\n",
       "  <thead>\n",
       "    <tr style=\"text-align: right;\">\n",
       "      <th></th>\n",
       "      <th>anime_id</th>\n",
       "      <th>name</th>\n",
       "      <th>genre</th>\n",
       "      <th>type</th>\n",
       "    </tr>\n",
       "  </thead>\n",
       "  <tbody>\n",
       "    <tr>\n",
       "      <th>0</th>\n",
       "      <td>32281</td>\n",
       "      <td>Kimi no Na wa.</td>\n",
       "      <td>Drama, Romance, School, Supernatural</td>\n",
       "      <td>Movie</td>\n",
       "    </tr>\n",
       "    <tr>\n",
       "      <th>1</th>\n",
       "      <td>5114</td>\n",
       "      <td>Fullmetal Alchemist: Brotherhood</td>\n",
       "      <td>Action, Adventure, Drama, Fantasy, Magic, Mili...</td>\n",
       "      <td>TV</td>\n",
       "    </tr>\n",
       "    <tr>\n",
       "      <th>2</th>\n",
       "      <td>28977</td>\n",
       "      <td>Gintama°</td>\n",
       "      <td>Action, Comedy, Historical, Parody, Samurai, S...</td>\n",
       "      <td>TV</td>\n",
       "    </tr>\n",
       "    <tr>\n",
       "      <th>3</th>\n",
       "      <td>9253</td>\n",
       "      <td>Steins;Gate</td>\n",
       "      <td>Sci-Fi, Thriller</td>\n",
       "      <td>TV</td>\n",
       "    </tr>\n",
       "    <tr>\n",
       "      <th>4</th>\n",
       "      <td>9969</td>\n",
       "      <td>Gintama&amp;#039;</td>\n",
       "      <td>Action, Comedy, Historical, Parody, Samurai, S...</td>\n",
       "      <td>TV</td>\n",
       "    </tr>\n",
       "  </tbody>\n",
       "</table>\n",
       "</div>"
      ],
      "text/plain": [
       "   anime_id                              name  \\\n",
       "0     32281                    Kimi no Na wa.   \n",
       "1      5114  Fullmetal Alchemist: Brotherhood   \n",
       "2     28977                          Gintama°   \n",
       "3      9253                       Steins;Gate   \n",
       "4      9969                     Gintama&#039;   \n",
       "\n",
       "                                               genre   type  \n",
       "0               Drama, Romance, School, Supernatural  Movie  \n",
       "1  Action, Adventure, Drama, Fantasy, Magic, Mili...     TV  \n",
       "2  Action, Comedy, Historical, Parody, Samurai, S...     TV  \n",
       "3                                   Sci-Fi, Thriller     TV  \n",
       "4  Action, Comedy, Historical, Parody, Samurai, S...     TV  "
      ]
     },
     "execution_count": 42,
     "metadata": {},
     "output_type": "execute_result"
    }
   ],
   "source": [
    "anime.head()"
   ]
  },
  {
   "cell_type": "code",
   "execution_count": 47,
   "metadata": {},
   "outputs": [],
   "source": [
    "cv = CountVectorizer(tokenizer = lambda x : x.split(', '))\n",
    "by_genre = cv.fit_transform(anime['genre']) \n"
   ]
  },
  {
   "cell_type": "code",
   "execution_count": 48,
   "metadata": {},
   "outputs": [
    {
     "data": {
      "text/plain": [
       "['action',\n",
       " 'adventure',\n",
       " 'cars',\n",
       " 'comedy',\n",
       " 'dementia',\n",
       " 'demons',\n",
       " 'drama',\n",
       " 'ecchi',\n",
       " 'fantasy',\n",
       " 'game',\n",
       " 'harem',\n",
       " 'hentai',\n",
       " 'historical',\n",
       " 'horror',\n",
       " 'josei',\n",
       " 'kids',\n",
       " 'magic',\n",
       " 'martial arts',\n",
       " 'mecha',\n",
       " 'military',\n",
       " 'music',\n",
       " 'mystery',\n",
       " 'parody',\n",
       " 'police',\n",
       " 'psychological',\n",
       " 'romance',\n",
       " 'samurai',\n",
       " 'school',\n",
       " 'sci-fi',\n",
       " 'seinen',\n",
       " 'shoujo',\n",
       " 'shoujo ai',\n",
       " 'shounen',\n",
       " 'shounen ai',\n",
       " 'slice of life',\n",
       " 'space',\n",
       " 'sports',\n",
       " 'super power',\n",
       " 'supernatural',\n",
       " 'thriller',\n",
       " 'vampire',\n",
       " 'yaoi',\n",
       " 'yuri']"
      ]
     },
     "execution_count": 48,
     "metadata": {},
     "output_type": "execute_result"
    }
   ],
   "source": [
    "cv.get_feature_names()"
   ]
  },
  {
   "cell_type": "code",
   "execution_count": 49,
   "metadata": {},
   "outputs": [],
   "source": [
    "cos_score = cosine_similarity(by_genre)"
   ]
  },
  {
   "cell_type": "code",
   "execution_count": 51,
   "metadata": {},
   "outputs": [
    {
     "data": {
      "text/plain": [
       "array([1.        , 0.18898224, 0.        , ..., 0.        , 0.        ,\n",
       "       0.        ])"
      ]
     },
     "execution_count": 51,
     "metadata": {},
     "output_type": "execute_result"
    }
   ],
   "source": [
    "cos_score[0]"
   ]
  },
  {
   "cell_type": "code",
   "execution_count": 53,
   "metadata": {},
   "outputs": [
    {
     "name": "stdout",
     "output_type": "stream",
     "text": [
      "What is your favorite anime ?Gintama°\n",
      "Since you watch 28977, here are similiar anime:\n",
      "1. 28977 (genre:Gintama°)\n",
      "2. 9969 (genre:Gintama&#039;)\n",
      "3. 15335 (genre:Gintama Movie: Kanketsu-hen - Yorozuya yo Eien Nare)\n",
      "4. 15417 (genre:Gintama&#039;: Enchousen)\n",
      "5. 918 (genre:Gintama)\n",
      "6. 21899 (genre:Gintama: Yorinuki Gintama-san on Theater 2D)\n",
      "7. 7472 (genre:Gintama Movie: Shinyaku Benizakura-hen)\n",
      "8. 9735 (genre:Gintama: Shinyaku Benizakura-hen)\n",
      "9. 25313 (genre:Gintama: Jump Festa 2014 Special)\n",
      "10. 34096 (genre:Gintama (2017))\n"
     ]
    }
   ],
   "source": [
    "anime_liked = input('What is your favorite anime ?')\n",
    "index_disukai = anime[anime['name']==anime_liked].index\n",
    "\n",
    "anime_recom = sorted(list(enumerate(cos_score[index_disukai[0]])), key=lambda x : x[1], reverse=True)\n",
    "print(f'Since you watch {anime.iloc[index_disukai[0]][0]}, here are similiar anime:')\n",
    "n=1\n",
    "for i,j in anime_recom[:10]:\n",
    "    print(f'{n}. {anime.iloc[i][0]} (genre:{anime.iloc[i][1]})')\n",
    "    n+=1"
   ]
  },
  {
   "cell_type": "markdown",
   "metadata": {},
   "source": [
    "### Latihan :\n",
    "1. Buat recommender system dengan data anime menggunakan pendekatan content based, gunakan variabel Type\n",
    "2. Buat recommender system dengan data anime menggunakan pendekatan content based, gunakan variabel Type & Genre\n"
   ]
  },
  {
   "cell_type": "code",
   "execution_count": 54,
   "metadata": {},
   "outputs": [],
   "source": [
    "cv = CountVectorizer(tokenizer = lambda x : x.split(', '))\n",
    "by_type = cv.fit_transform(anime['type']) "
   ]
  },
  {
   "cell_type": "code",
   "execution_count": 57,
   "metadata": {},
   "outputs": [
    {
     "data": {
      "text/plain": [
       "['movie', 'music', 'ona', 'ova', 'special', 'tv']"
      ]
     },
     "execution_count": 57,
     "metadata": {},
     "output_type": "execute_result"
    }
   ],
   "source": [
    "cv.get_feature_names()"
   ]
  },
  {
   "cell_type": "code",
   "execution_count": 60,
   "metadata": {},
   "outputs": [],
   "source": [
    "cos_score_type = cosine_similarity(by_type)"
   ]
  },
  {
   "cell_type": "code",
   "execution_count": 61,
   "metadata": {},
   "outputs": [
    {
     "data": {
      "text/plain": [
       "array([1., 0., 0., ..., 0., 0., 1.])"
      ]
     },
     "execution_count": 61,
     "metadata": {},
     "output_type": "execute_result"
    }
   ],
   "source": [
    "cos_score_type[0]"
   ]
  },
  {
   "cell_type": "code",
   "execution_count": 71,
   "metadata": {},
   "outputs": [
    {
     "name": "stdout",
     "output_type": "stream",
     "text": [
      "What is your favorite anime ?Naruto\n",
      "Since you watch 20, here are similiar anime:\n",
      "1. 5114 (type:Action, Adventure, Drama, Fantasy, Magic, Military, Shounen)\n",
      "2. 28977 (type:Action, Comedy, Historical, Parody, Samurai, Sci-Fi, Shounen)\n",
      "3. 9253 (type:Sci-Fi, Thriller)\n",
      "4. 9969 (type:Action, Comedy, Historical, Parody, Samurai, Sci-Fi, Shounen)\n",
      "5. 32935 (type:Comedy, Drama, School, Shounen, Sports)\n",
      "6. 11061 (type:Action, Adventure, Shounen, Super Power)\n",
      "7. 15417 (type:Action, Comedy, Historical, Parody, Samurai, Sci-Fi, Shounen)\n",
      "8. 4181 (type:Drama, Fantasy, Romance, Slice of Life, Supernatural)\n",
      "9. 918 (type:Action, Comedy, Historical, Parody, Samurai, Sci-Fi, Shounen)\n",
      "10. 2904 (type:Action, Drama, Mecha, Military, Sci-Fi, Super Power)\n"
     ]
    }
   ],
   "source": [
    "anime_liked = input('What is your favorite anime ?')\n",
    "index_disukai = anime[anime['name']==anime_liked].index\n",
    "\n",
    "anime_recom = sorted(list(enumerate(cos_score_type[index_disukai[0]])), key=lambda x : x[1], reverse=True)\n",
    "print(f'Since you watch {anime.iloc[index_disukai[0]][0]}, here are similiar anime:')\n",
    "n=1\n",
    "for i,j in anime_recom[:10]:\n",
    "    print(f'{n}. {anime.iloc[i][0]} (type:{anime.iloc[i][2]})')\n",
    "    n+=1"
   ]
  },
  {
   "cell_type": "code",
   "execution_count": null,
   "metadata": {},
   "outputs": [],
   "source": []
  },
  {
   "cell_type": "code",
   "execution_count": 72,
   "metadata": {},
   "outputs": [],
   "source": [
    "anime['genre_type'] = anime['type'] + str(', ') + anime['genre']"
   ]
  },
  {
   "cell_type": "code",
   "execution_count": 74,
   "metadata": {},
   "outputs": [
    {
     "data": {
      "text/html": [
       "<div>\n",
       "<style scoped>\n",
       "    .dataframe tbody tr th:only-of-type {\n",
       "        vertical-align: middle;\n",
       "    }\n",
       "\n",
       "    .dataframe tbody tr th {\n",
       "        vertical-align: top;\n",
       "    }\n",
       "\n",
       "    .dataframe thead th {\n",
       "        text-align: right;\n",
       "    }\n",
       "</style>\n",
       "<table border=\"1\" class=\"dataframe\">\n",
       "  <thead>\n",
       "    <tr style=\"text-align: right;\">\n",
       "      <th></th>\n",
       "      <th>anime_id</th>\n",
       "      <th>name</th>\n",
       "      <th>genre</th>\n",
       "      <th>type</th>\n",
       "      <th>genre_type</th>\n",
       "    </tr>\n",
       "  </thead>\n",
       "  <tbody>\n",
       "    <tr>\n",
       "      <th>0</th>\n",
       "      <td>32281</td>\n",
       "      <td>Kimi no Na wa.</td>\n",
       "      <td>Drama, Romance, School, Supernatural</td>\n",
       "      <td>Movie</td>\n",
       "      <td>Movie, Drama, Romance, School, Supernatural</td>\n",
       "    </tr>\n",
       "    <tr>\n",
       "      <th>1</th>\n",
       "      <td>5114</td>\n",
       "      <td>Fullmetal Alchemist: Brotherhood</td>\n",
       "      <td>Action, Adventure, Drama, Fantasy, Magic, Mili...</td>\n",
       "      <td>TV</td>\n",
       "      <td>TV, Action, Adventure, Drama, Fantasy, Magic, ...</td>\n",
       "    </tr>\n",
       "    <tr>\n",
       "      <th>2</th>\n",
       "      <td>28977</td>\n",
       "      <td>Gintama°</td>\n",
       "      <td>Action, Comedy, Historical, Parody, Samurai, S...</td>\n",
       "      <td>TV</td>\n",
       "      <td>TV, Action, Comedy, Historical, Parody, Samura...</td>\n",
       "    </tr>\n",
       "    <tr>\n",
       "      <th>3</th>\n",
       "      <td>9253</td>\n",
       "      <td>Steins;Gate</td>\n",
       "      <td>Sci-Fi, Thriller</td>\n",
       "      <td>TV</td>\n",
       "      <td>TV, Sci-Fi, Thriller</td>\n",
       "    </tr>\n",
       "    <tr>\n",
       "      <th>4</th>\n",
       "      <td>9969</td>\n",
       "      <td>Gintama&amp;#039;</td>\n",
       "      <td>Action, Comedy, Historical, Parody, Samurai, S...</td>\n",
       "      <td>TV</td>\n",
       "      <td>TV, Action, Comedy, Historical, Parody, Samura...</td>\n",
       "    </tr>\n",
       "  </tbody>\n",
       "</table>\n",
       "</div>"
      ],
      "text/plain": [
       "   anime_id                              name  \\\n",
       "0     32281                    Kimi no Na wa.   \n",
       "1      5114  Fullmetal Alchemist: Brotherhood   \n",
       "2     28977                          Gintama°   \n",
       "3      9253                       Steins;Gate   \n",
       "4      9969                     Gintama&#039;   \n",
       "\n",
       "                                               genre   type  \\\n",
       "0               Drama, Romance, School, Supernatural  Movie   \n",
       "1  Action, Adventure, Drama, Fantasy, Magic, Mili...     TV   \n",
       "2  Action, Comedy, Historical, Parody, Samurai, S...     TV   \n",
       "3                                   Sci-Fi, Thriller     TV   \n",
       "4  Action, Comedy, Historical, Parody, Samurai, S...     TV   \n",
       "\n",
       "                                          genre_type  \n",
       "0        Movie, Drama, Romance, School, Supernatural  \n",
       "1  TV, Action, Adventure, Drama, Fantasy, Magic, ...  \n",
       "2  TV, Action, Comedy, Historical, Parody, Samura...  \n",
       "3                               TV, Sci-Fi, Thriller  \n",
       "4  TV, Action, Comedy, Historical, Parody, Samura...  "
      ]
     },
     "execution_count": 74,
     "metadata": {},
     "output_type": "execute_result"
    }
   ],
   "source": [
    "anime.head()"
   ]
  },
  {
   "cell_type": "code",
   "execution_count": 75,
   "metadata": {},
   "outputs": [],
   "source": [
    "cv = CountVectorizer(tokenizer = lambda x : x.split(', '))\n",
    "by_type_genre = cv.fit_transform(anime['genre_type'])"
   ]
  },
  {
   "cell_type": "code",
   "execution_count": 76,
   "metadata": {},
   "outputs": [],
   "source": [
    "cos_score_type_genre = cosine_similarity(by_type_genre)"
   ]
  },
  {
   "cell_type": "code",
   "execution_count": 82,
   "metadata": {},
   "outputs": [
    {
     "name": "stdout",
     "output_type": "stream",
     "text": [
      "What is your favorite anime ?Naruto\n",
      "Since you watch 20, here are similiar anime:\n",
      "1. 1735 (type:Action, Comedy, Martial Arts, Shounen, Super Power)\n",
      "2. 20 (type:Action, Comedy, Martial Arts, Shounen, Super Power)\n",
      "3. 1604 (type:Action, Comedy, Shounen, Super Power)\n",
      "4. 813 (type:Action, Adventure, Comedy, Fantasy, Martial Arts, Shounen, Super Power)\n",
      "5. 22777 (type:Action, Adventure, Comedy, Fantasy, Martial Arts, Shounen, Super Power)\n",
      "6. 6033 (type:Action, Adventure, Comedy, Fantasy, Martial Arts, Shounen, Super Power)\n",
      "7. 14527 (type:Action, Comedy, Ecchi, Martial Arts, School, Shounen, Super Power)\n",
      "8. 30694 (type:Action, Adventure, Comedy, Fantasy, Martial Arts, Shounen, Super Power)\n",
      "9. 11761 (type:Action, Comedy, Ecchi, Martial Arts, School, Shounen, Super Power)\n",
      "10. 174 (type:Action, Comedy, Ecchi, Martial Arts, School, Shounen, Super Power)\n"
     ]
    }
   ],
   "source": [
    "anime_liked = input('What is your favorite anime ?')\n",
    "index_disukai = anime[anime['name']==anime_liked].index\n",
    "\n",
    "anime_recom = sorted(list(enumerate(cos_score_type_genre[index_disukai[0]])), key=lambda x : x[1], reverse=True)\n",
    "print(f'Since you watch {anime.iloc[index_disukai[0]][0]}, here are similiar anime:')\n",
    "n=1\n",
    "for i,j in anime_recom[:10]:\n",
    "    print(f'{n}. {anime.iloc[i][0]} (type:{anime.iloc[i][2]})')\n",
    "    n+=1"
   ]
  },
  {
   "cell_type": "code",
   "execution_count": null,
   "metadata": {},
   "outputs": [],
   "source": []
  }
 ],
 "metadata": {
  "kernelspec": {
   "display_name": "Python 3",
   "language": "python",
   "name": "python3"
  },
  "language_info": {
   "codemirror_mode": {
    "name": "ipython",
    "version": 3
   },
   "file_extension": ".py",
   "mimetype": "text/x-python",
   "name": "python",
   "nbconvert_exporter": "python",
   "pygments_lexer": "ipython3",
   "version": "3.8.3"
  }
 },
 "nbformat": 4,
 "nbformat_minor": 4
}
